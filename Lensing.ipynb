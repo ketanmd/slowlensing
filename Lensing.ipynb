{
 "cells": [
  {
   "cell_type": "code",
   "execution_count": 1,
   "metadata": {
    "collapsed": true
   },
   "outputs": [],
   "source": [
    "# What is the density of GAIEA stars across the sky ?"
   ]
  },
  {
   "cell_type": "code",
   "execution_count": 2,
   "metadata": {
    "collapsed": true
   },
   "outputs": [],
   "source": [
    "# What is the accuracy of position measurements,\n",
    "#   what is the time baseline,\n",
    "#   what is the accuracy of proper motion measurements?"
   ]
  },
  {
   "cell_type": "code",
   "execution_count": 13,
   "metadata": {},
   "outputs": [
    {
     "data": {
      "text/plain": [
       "(3.821501260171383e-05,\n",
       " 1179315288888.8887,\n",
       " 1.526247569669475,\n",
       " 0.09011765517340395,\n",
       " (0.09011765517340395,\n",
       "  0.008121191773952539,\n",
       "  0.9918788082260475,\n",
       "  1.0081211917739525))"
      ]
     },
     "execution_count": 13,
     "metadata": {},
     "output_type": "execute_result"
    }
   ],
   "source": [
    "import math\n",
    "## What is the Schwartzchild radius of the sun\n",
    "spyr     = 3e7 # seconds per year\n",
    "masprad  = 206265e3 # milliarcseconds per radian\n",
    "arcsprad = 206265 # arcseconds per radian\n",
    "pcpyr    = 0.307 # light speed [parsecs per year]\n",
    "mppc     = 3.086e16 # meters per parsec\n",
    "\n",
    "cee = 3e8      # speed of light [m/s]\n",
    "Gee = 6.67e-11 # grav constant [m^3/kg/sec/sec]\n",
    "m_S = 1.9891e30     # mass of sun [kg]\n",
    "m_J = 1.899e27 # mass of jupiter [kg]\n",
    "m_M = 3.302e23 # mass of mercury [kg]\n",
    "\n",
    "r_S = 2 * Gee * m_S / cee / cee # schwartzchild radius [m]\n",
    "\n",
    "# max einstein ring radius for solar mass lens at 1 parsec with source at infinity\n",
    "RMax = 3600 * (180/math.pi) * math.sqrt(2 * r_S / mppc) # [arcsec]\n",
    "\n",
    "def r_e(m_l, d_l, d_s) :\n",
    "    return(RMax * math.sqrt(m_l * (1/d_l - 1/d_s)))\n",
    "\n",
    "# theta * alpha = r_e^2\n",
    "# alpha = r_e^2 / theta\n",
    "# beta  = theta - r_e^2/theta \n",
    "\n",
    "def lp(theta, r_e) :\n",
    "    alpha = r_e*r_e / theta\n",
    "    return(r_e, alpha,theta - alpha,theta + alpha)\n",
    "\n",
    "# for a bending angle of 1 mas, what is the impact parameter?\n",
    "#alphahat = 2*r_s / r\n",
    "# alphahat = 1 mas = 5e-9 rad\n",
    "alphahat = 5e-9 # rad\n",
    "r = 2 * r_S / alphahat # meters\n",
    "r_pc = r/mppc\n",
    "r_pc , r\n",
    "# arrive in 50 years, travelling at 0.01c would be d = vt\n",
    "d = 50 * 3.14e7 * 3e7 / 3.086e16\n",
    "r_pc , r , d, r_e(1.0,1.0,1000.0), lp(1, r_e(1.0, 1.0, 1000.0))"
   ]
  },
  {
   "cell_type": "code",
   "execution_count": 17,
   "metadata": {},
   "outputs": [
    {
     "name": "stdout",
     "output_type": "stream",
     "text": [
      "['hip', 'tycho2_id', 'solution_id', 'source_id', 'random_index', 'ref_epoch', 'ra', 'ra_error', 'dec', 'dec_error', 'parallax', 'parallax_error', 'pmra', 'pmra_error', 'pmdec', 'pmdec_error', 'ra_dec_corr', 'ra_parallax_corr', 'ra_pmra_corr', 'ra_pmdec_corr', 'dec_parallax_corr', 'dec_pmra_corr', 'dec_pmdec_corr', 'parallax_pmra_corr', 'parallax_pmdec_corr', 'pmra_pmdec_corr', 'astrometric_n_obs_al', 'astrometric_n_obs_ac', 'astrometric_n_good_obs_al', 'astrometric_n_good_obs_ac', 'astrometric_n_bad_obs_al', 'astrometric_n_bad_obs_ac', 'astrometric_delta_q', 'astrometric_excess_noise', 'astrometric_excess_noise_sig', 'astrometric_primary_flag', 'astrometric_relegation_factor', 'astrometric_weight_al', 'astrometric_weight_ac', 'astrometric_priors_used', 'matched_observations', 'duplicated_source', 'scan_direction_strength_k1', 'scan_direction_strength_k2', 'scan_direction_strength_k3', 'scan_direction_strength_k4', 'scan_direction_mean_k1', 'scan_direction_mean_k2', 'scan_direction_mean_k3', 'scan_direction_mean_k4', 'phot_g_n_obs', 'phot_g_mean_flux', 'phot_g_mean_flux_error', 'phot_g_mean_mag', 'phot_variable_flag', 'l', 'b', 'ecl_lon', 'ecl_lat']\n"
     ]
    }
   ],
   "source": [
    "# see some data\n",
    "import astropy.table\n",
    "tgas = astropy.table.Table.read('../data/stacked_tgas.fits')\n",
    "print(tgas.colnames)"
   ]
  },
  {
   "cell_type": "code",
   "execution_count": 19,
   "metadata": {
    "scrolled": true
   },
   "outputs": [
    {
     "name": "stdout",
     "output_type": "stream",
     "text": [
      "<Table length=2057050>\n",
      "             name              dtype   n_bad \n",
      "----------------------------- ------- -------\n",
      "                          hip   int32       0\n",
      "                    tycho2_id bytes12       0\n",
      "                  solution_id   int64       0\n",
      "                    source_id   int64       0\n",
      "                 random_index   int64       0\n",
      "                    ref_epoch float64       0\n",
      "                           ra float64       0\n",
      "                     ra_error float64       0\n",
      "                          dec float64       0\n",
      "                    dec_error float64       0\n",
      "                     parallax float64       0\n",
      "               parallax_error float64       0\n",
      "                         pmra float64       0\n",
      "                   pmra_error float64       0\n",
      "                        pmdec float64       0\n",
      "                  pmdec_error float64       0\n",
      "                  ra_dec_corr float32       0\n",
      "             ra_parallax_corr float32       0\n",
      "                 ra_pmra_corr float32       0\n",
      "                ra_pmdec_corr float32       0\n",
      "            dec_parallax_corr float32       0\n",
      "                dec_pmra_corr float32       0\n",
      "               dec_pmdec_corr float32       0\n",
      "           parallax_pmra_corr float32       0\n",
      "          parallax_pmdec_corr float32       0\n",
      "              pmra_pmdec_corr float32       0\n",
      "         astrometric_n_obs_al   int32       0\n",
      "         astrometric_n_obs_ac   int32       0\n",
      "    astrometric_n_good_obs_al   int32       0\n",
      "    astrometric_n_good_obs_ac   int32       0\n",
      "     astrometric_n_bad_obs_al   int32       0\n",
      "     astrometric_n_bad_obs_ac   int32       0\n",
      "          astrometric_delta_q float32 1963415\n",
      "     astrometric_excess_noise float64       0\n",
      " astrometric_excess_noise_sig float64       0\n",
      "     astrometric_primary_flag    bool       0\n",
      "astrometric_relegation_factor float32       0\n",
      "        astrometric_weight_al float32       0\n",
      "        astrometric_weight_ac float32    2192\n",
      "      astrometric_priors_used   int32       0\n",
      "         matched_observations   int16       0\n",
      "            duplicated_source    bool       0\n",
      "   scan_direction_strength_k1 float32       0\n",
      "   scan_direction_strength_k2 float32       0\n",
      "   scan_direction_strength_k3 float32       0\n",
      "   scan_direction_strength_k4 float32       0\n",
      "       scan_direction_mean_k1 float32       0\n",
      "       scan_direction_mean_k2 float32       0\n",
      "       scan_direction_mean_k3 float32       0\n",
      "       scan_direction_mean_k4 float32       0\n",
      "                 phot_g_n_obs   int32       0\n",
      "             phot_g_mean_flux float64       0\n",
      "       phot_g_mean_flux_error float64       0\n",
      "              phot_g_mean_mag float64       0\n",
      "           phot_variable_flag bytes13       0\n",
      "                            l float64       0\n",
      "                            b float64       0\n",
      "                      ecl_lon float64       0\n",
      "                      ecl_lat float64       0\n",
      "\n"
     ]
    }
   ],
   "source": [
    "print(tgas.info)\n"
   ]
  },
  {
   "cell_type": "code",
   "execution_count": null,
   "metadata": {
    "collapsed": true
   },
   "outputs": [],
   "source": []
  }
 ],
 "metadata": {
  "kernelspec": {
   "display_name": "Python 3",
   "language": "python",
   "name": "python3"
  },
  "language_info": {
   "codemirror_mode": {
    "name": "ipython",
    "version": 3
   },
   "file_extension": ".py",
   "mimetype": "text/x-python",
   "name": "python",
   "nbconvert_exporter": "python",
   "pygments_lexer": "ipython3",
   "version": "3.5.2"
  }
 },
 "nbformat": 4,
 "nbformat_minor": 2
}
