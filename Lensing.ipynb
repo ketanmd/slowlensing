{
 "cells": [
  {
   "cell_type": "code",
   "execution_count": null,
   "metadata": {
    "collapsed": true
   },
   "outputs": [],
   "source": [
    "# What is the density of GAIEA stars across the sky ?"
   ]
  },
  {
   "cell_type": "code",
   "execution_count": null,
   "metadata": {
    "collapsed": true
   },
   "outputs": [],
   "source": [
    "# What is the accuracy of position measurements,\n",
    "#   what is the time baseline,\n",
    "#   what is the accuracy of proper motion measurements?"
   ]
  },
  {
   "cell_type": "code",
   "execution_count": 12,
   "metadata": {},
   "outputs": [
    {
     "data": {
      "text/plain": [
       "(3.842442572189818e-05, 1185777777777.7778, 1.526247569669475)"
      ]
     },
     "execution_count": 12,
     "metadata": {},
     "output_type": "execute_result"
    }
   ],
   "source": [
    "## What is the Schwartzchild radius of the sun\n",
    "c = 3e8 # m/s\n",
    "G = 6.67e-11 # m^3/Kg/sec/sec\n",
    "M = 2e30 # kg\n",
    "r_s = 2*G*M/c/c\n",
    "# for a bening angle of 1 mas, what is the impact parameter?\n",
    "#alphahat = 2*r_s / r\n",
    "# alphahat = 1 mas = 5e-9 rad\n",
    "alphahat = 5e-9 # rad\n",
    "r = 2 * r_s / alphahat # meters\n",
    "r_pc = r/3.086e16\n",
    "r_pc , r\n",
    "# arrive in 50 years, travelling at 0.01c would be d = vt\n",
    "d = 50 * 3.14e7 * 3e7 / 3.086e16\n",
    "r_pc , r , d"
   ]
  }
 ],
 "metadata": {
  "kernelspec": {
   "display_name": "Python 3",
   "language": "python",
   "name": "python3"
  },
  "language_info": {
   "codemirror_mode": {
    "name": "ipython",
    "version": 3
   },
   "file_extension": ".py",
   "mimetype": "text/x-python",
   "name": "python",
   "nbconvert_exporter": "python",
   "pygments_lexer": "ipython3",
   "version": "3.5.2"
  }
 },
 "nbformat": 4,
 "nbformat_minor": 2
}
